{
 "cells": [
  {
   "cell_type": "code",
   "execution_count": null,
   "id": "7fabfcf2-a6e2-4e86-a053-b5dddc1540b6",
   "metadata": {},
   "outputs": [],
   "source": [
    "def letter_check(x): \n",
    "    \"\"\"\n",
    "    Checks whether an input consists of character data\n",
    "    Required packages: None\n",
    "    Default arguments: None\n",
    "    \"\"\"\n",
    "    if type(x) != str: \n",
    "        new_x = str(x) \n",
    "        return print(\"You entered\", x, \"which is\", type(x), \"it is now character.\")\n",
    "    else: \n",
    "        return print(\"You entered character data. Nothing changed.\")\n",
    "    \n",
    "letter_check(1)\n"
   ]
  },
  {
   "cell_type": "code",
   "execution_count": null,
   "id": "d23cb0ab-bf5c-441e-b8a6-cd151d7f6f0f",
   "metadata": {},
   "outputs": [],
   "source": [
    "# load necessary packages\n",
    "import numpy as np\n",
    "import datascience as ds\n",
    "# These lines do some fancy plotting magic.\n",
    "import matplotlib\n",
    "%matplotlib inline\n",
    "import matplotlib.pyplot as plt\n",
    "\n",
    "# read in data\n",
    "movie = ds.Table.read_table(\"movie_mod.csv\")\n",
    "\n",
    "def pairs(data):\n",
    "    \"\"\"\n",
    "    This function will create a plot for each pair of columns containing integer or float data in a Table. \n",
    "    Required libaries: import numpy as np; import datascience as ds; import matplotlib; %matplotlib inline; import matplotlib.pyplot as plt\n",
    "    Default arguments: None\n",
    "    \"\"\"\n",
    "    # we first loop through all the columns in one for loop\n",
    "    for i in range(data.num_columns):\n",
    "        # we now loop through all the columns in another for loop. Since this is nested, j will be set to 1, ... , number of columns in tbl while i =1, then 1, ... , number of columsn while i = 2, and so on until i = number of columns in tbl\n",
    "        for j in range(data.num_columns): \n",
    "            # This is for the bonus. It will only print columns with integer or float data. Since the column table method outputs an array, it is a numpy object that we need to use the dtype array method for rather than the type() command in base Python\n",
    "            if (data.column(i)[0].dtype == \"int64\" or data.column(i)[0].dtype == \"float64\") and (data.column(j)[0].dtype == \"int64\" or data.column(j)[0].dtype == \"float64\"):\n",
    "                # This is for the other bonus. It will only print unique pairs of variables. Ignoring this will double the number of plots. \n",
    "                if i < j:\n",
    "                    # plot the ith and jth row in a scatterplot\n",
    "                    data.scatter(i,j)\n",
    "            \n",
    "pairs(movie)"
   ]
  }
 ],
 "metadata": {
  "kernelspec": {
   "display_name": "Python 3 (ipykernel)",
   "language": "python",
   "name": "python3"
  },
  "language_info": {
   "codemirror_mode": {
    "name": "ipython",
    "version": 3
   },
   "file_extension": ".py",
   "mimetype": "text/x-python",
   "name": "python",
   "nbconvert_exporter": "python",
   "pygments_lexer": "ipython3",
   "version": "3.8.10"
  }
 },
 "nbformat": 4,
 "nbformat_minor": 5
}
