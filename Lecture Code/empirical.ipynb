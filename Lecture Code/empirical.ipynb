{
 "cells": [
  {
   "cell_type": "code",
   "execution_count": null,
   "id": "122099b0-64c8-4703-bdd7-d09aeb5199b4",
   "metadata": {},
   "outputs": [],
   "source": [
    "# BSOS233 Lecture on Empirical Distributions\n",
    "# Jupyter Notebook created by Jacob J. Coutts\n",
    "\n",
    "import numpy as np\n",
    "import random\n",
    "from datascience import *\n",
    "import statistics\n",
    "# These lines do some fancy plotting magic.\n",
    "import matplotlib\n",
    "%matplotlib inline\n",
    "import matplotlib.pyplot as plt\n",
    "\n",
    "# set seed to reproduce results\n",
    "random.seed(10172023)\n",
    "\n",
    "# read in data\n",
    "marketing = Table.read_table(\"marketing.csv\")\n",
    "# create pivot table\n",
    "piv_marketing = marketing.pivot(\"decision\",\"ad\")\n",
    "# find probability of purchasing if in the funny ad condition\n",
    "funny_prob = piv_marketing.take(0)[2]/(piv_marketing.column(\"purchase\")[0] + piv_marketing.take(0)[1])\n",
    "# find the probability of purchasing if in the informational ad condition\n",
    "informational_prob = piv_marketing.take(1)[2]/(piv_marketing.column(\"not purchase\")[1] + piv_marketing.take(1)[2])\n",
    "# find difference between groups\n",
    "cond_dif = funny_prob-informational_prob\n",
    "# print the probabilities\n",
    "print(funny_prob) # should be .3314...\n",
    "print(informational_prob) # should be .24\n",
    "print(cond_dif) # should be .0914...\n",
    "print(piv_marketing)"
   ]
  },
  {
   "cell_type": "code",
   "execution_count": null,
   "id": "e50f6d41-5779-4936-a2e3-a86a8045b6fc",
   "metadata": {},
   "outputs": [],
   "source": [
    "# shuffle for a single group and verify it works before simulating\n",
    "n = marketing.num_rows # number of rows\n",
    "shuffled_outcome = marketing.sample(n, with_replacement = False).column(\"decision\") # shuffle Table and select the column\n",
    "simulated_trial = Table().with_columns(\"ad\", marketing.column(\"ad\"), \"decision\", shuffled_outcome) # recreate table\n",
    "psim = simulated_trial.pivot(\"decision\",\"ad\") # create pivot table for shuffled data\n",
    "funny_sim_prob = psim.take(0)[2]/(psim.column(\"purchase\")[0] + psim.take(0)[1]) # grab appropriate values for probabilty\n",
    "informational_sim_prob = psim.take(1)[2]/(psim.column(\"not purchase\")[1] + psim.take(1)[2]) # grab appropriate values for probabilty\n",
    "sim_cond_dif = funny_sim_prob - informational_sim_prob # store difference\n",
    "\n",
    "print(funny_sim_prob) # probability of purchasing under null in funny condition\n",
    "print(informational_sim_prob) # probability of purchasing under null in informational condition\n",
    "print(sim_cond_dif)\n",
    "print(psim)"
   ]
  },
  {
   "cell_type": "code",
   "execution_count": null,
   "id": "6e6279b0-4dc4-45a5-98ab-c6f6a3ea1bfc",
   "metadata": {
    "tags": []
   },
   "outputs": [],
   "source": [
    "# simulate this many times for sampling distribution\n",
    "\n",
    "iterations = 1000 # set number of loops\n",
    "funny_results = make_array() # array to store results for funny ad group\n",
    "informational_results = make_array() # array to store results for informational ad group\n",
    "cond_dif_results = make_array() # array to store differences\n",
    "\n",
    "# loop and store probability in each iteration. we will be doing what is in the prior code block many times\n",
    "for i in np.arange(iterations):\n",
    "    shuffled_outcome = marketing.sample(marketing.num_rows, with_replacement = False).column(\"decision\") # shuffle table and grab outcome\n",
    "    simulated_trial = Table().with_columns(\"ad\", marketing.column(\"ad\"), \"decision\", shuffled_outcome) # create table with og pred. and new outcome\n",
    "    psim = simulated_trial.pivot(\"decision\",\"ad\") # create pivot table for shuffled data\n",
    "    funny_sim_prob = psim.take(0)[2]/(psim.column(\"purchase\")[0] + psim.take(0)[1]) # compute shuffled funny_sim_prob\n",
    "    informational_sim_prob = psim.take(1)[2]/(psim.column(\"not purchase\")[1] + psim.take(1)[2]) # compute shuffled informational_sim_prob\n",
    "    conddifsim = funny_sim_prob - informational_sim_prob # compute difference between purchasing in two conditions\n",
    "    funny_results = np.append(funny_results, funny_sim_prob)\n",
    "    informational_results = np.append(informational_results, informational_sim_prob)\n",
    "    cond_dif_results = np.append(cond_dif_results, conddifsim)"
   ]
  },
  {
   "cell_type": "code",
   "execution_count": null,
   "id": "d7b33d80-fb18-4413-bec4-8090e5d90b47",
   "metadata": {},
   "outputs": [],
   "source": [
    "tot_res = Table().with_columns(\n",
    "    \"informational_results\", informational_results,\n",
    "    \"funny_results\", funny_results,\n",
    "    \"cond_dif_results\", cond_dif_results\n",
    ")\n",
    "tot_res.select(\"cond_dif_results\").hist() # histogram of differences\n",
    "print(cond_dif) # original estimate of difference\n",
    "print(statistics.stdev(tot_res.column(\"cond_dif_results\"))) # sd of differences, should be within +/2 SDs, barely excluded\n",
    "print(np.quantile(tot_res.column(\"cond_dif_results\"), [.025,.975])) # 95%CI for differences, if 0 excluded, then significant"
   ]
  },
  {
   "cell_type": "code",
   "execution_count": null,
   "id": "cad63405-0e77-48d8-bbdc-db9fc827bc2f",
   "metadata": {},
   "outputs": [],
   "source": [
    "tot_res.select(\"informational_results\").hist() # histogram of informational probs"
   ]
  },
  {
   "cell_type": "code",
   "execution_count": null,
   "id": "a9da26a0-fd4a-4e44-bfa2-643118a545db",
   "metadata": {},
   "outputs": [],
   "source": [
    "tot_res.select(\"funny_results\").hist() # histogram of funny probs"
   ]
  }
 ],
 "metadata": {
  "kernelspec": {
   "display_name": "Python 3 (ipykernel)",
   "language": "python",
   "name": "python3"
  },
  "language_info": {
   "codemirror_mode": {
    "name": "ipython",
    "version": 3
   },
   "file_extension": ".py",
   "mimetype": "text/x-python",
   "name": "python",
   "nbconvert_exporter": "python",
   "pygments_lexer": "ipython3",
   "version": "3.8.10"
  }
 },
 "nbformat": 4,
 "nbformat_minor": 5
}
