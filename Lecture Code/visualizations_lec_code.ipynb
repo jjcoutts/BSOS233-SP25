{
 "cells": [
  {
   "cell_type": "code",
   "execution_count": null,
   "id": "d2a803ab-2cb3-4c10-86be-d9158a130ea8",
   "metadata": {},
   "outputs": [],
   "source": [
    "# BSOS233 Lecture on Confidence Intervals\n",
    "# Jupyter Notebook created by Jacob J. Coutts\n",
    "\n",
    "# load required packages\n",
    "from datascience import *\n",
    "import numpy as np\n",
    "# These lines do some fancy plotting magic.\n",
    "import matplotlib\n",
    "%matplotlib inline\n",
    "import matplotlib.pyplot as plt"
   ]
  },
  {
   "cell_type": "code",
   "execution_count": null,
   "id": "3d6103fd-455f-47ba-960a-9cc05996d968",
   "metadata": {},
   "outputs": [],
   "source": [
    "nfl = Table.read_table(\"nfl_salary.csv\") # read in table to object called \"nfL\"\n",
    "\n",
    "np.mean(nfl.column(\"totalCash\"))"
   ]
  },
  {
   "cell_type": "code",
   "execution_count": null,
   "id": "a0f09447-fd6b-4aac-8be4-2d0d4a0927a1",
   "metadata": {},
   "outputs": [],
   "source": [
    "np.median(nfl.column(\"totalCash\"))\n",
    "# better"
   ]
  },
  {
   "cell_type": "code",
   "execution_count": null,
   "id": "72748d84-6579-46af-9e9b-3fbe35173999",
   "metadata": {},
   "outputs": [],
   "source": [
    "nfl.select(\"team\",\"totalCash\").group(\"team\", np.median).sort(\"totalCash median\", descending=True).barh(\"team\")"
   ]
  },
  {
   "cell_type": "code",
   "execution_count": null,
   "id": "ab6adee0-ae4f-44c9-93ce-c68bc6615e1a",
   "metadata": {},
   "outputs": [],
   "source": [
    "nfl.select(\"totalCash\").hist()"
   ]
  },
  {
   "cell_type": "code",
   "execution_count": null,
   "id": "294440ea-6430-4039-a285-a198bb5db86b",
   "metadata": {},
   "outputs": [],
   "source": [
    "nfl.select(\"totalCash\").boxplot()"
   ]
  },
  {
   "cell_type": "code",
   "execution_count": null,
   "id": "f2b0f6ff-b95f-4e01-9926-de69a7018df9",
   "metadata": {},
   "outputs": [],
   "source": [
    "nfl.select(\"team\").group(\"team\").sort(\"count\",descending=True).barh(\"team\")"
   ]
  },
  {
   "cell_type": "code",
   "execution_count": null,
   "id": "dc8f2cbc-24ef-4f40-975b-e83c3d5d47cf",
   "metadata": {},
   "outputs": [],
   "source": [
    "np.percentile(nfl.column(\"totalCash\"),[0,25,50,75,100])"
   ]
  },
  {
   "cell_type": "code",
   "execution_count": null,
   "id": "c3dc858b-eba7-44c4-b5b1-58321f73e31a",
   "metadata": {},
   "outputs": [],
   "source": [
    "nfl.select(\"year\",\"totalCash\").group('year', collect = np.mean).plot(\"year\")"
   ]
  },
  {
   "cell_type": "code",
   "execution_count": null,
   "id": "2ccac93d-8ef3-4784-a727-d67e8964ef35",
   "metadata": {},
   "outputs": [],
   "source": [
    "nfl.scatter(\"year\",\"totalCash\")"
   ]
  }
 ],
 "metadata": {
  "kernelspec": {
   "display_name": "Python 3 (ipykernel)",
   "language": "python",
   "name": "python3"
  },
  "language_info": {
   "codemirror_mode": {
    "name": "ipython",
    "version": 3
   },
   "file_extension": ".py",
   "mimetype": "text/x-python",
   "name": "python",
   "nbconvert_exporter": "python",
   "pygments_lexer": "ipython3",
   "version": "3.8.10"
  }
 },
 "nbformat": 4,
 "nbformat_minor": 5
}
