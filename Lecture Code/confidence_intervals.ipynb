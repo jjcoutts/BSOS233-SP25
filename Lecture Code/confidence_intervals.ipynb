{
 "cells": [
  {
   "cell_type": "code",
   "execution_count": null,
   "id": "e03a1091-64dc-4a22-8423-ba4e03501726",
   "metadata": {},
   "outputs": [],
   "source": [
    "# BSOS233 Lecture on Confidence Intervals\n",
    "# Jupyter Notebook created by Jacob J. Coutts\n",
    "\n",
    "# These lines import the Numpy and Datascience modules.\n",
    "import numpy as np\n",
    "from datascience import *\n",
    "import statistics as s\n",
    "# These lines do some fancy plotting magic\n",
    "import matplotlib\n",
    "%matplotlib inline\n",
    "import matplotlib.pyplot as plt\n",
    "plt.style.use('fivethirtyeight')"
   ]
  },
  {
   "cell_type": "code",
   "execution_count": null,
   "id": "f7db8cc4-eacd-4ab2-9e19-1c466b7d4623",
   "metadata": {},
   "outputs": [],
   "source": [
    "population = Table.read_table(\"stem_salaries.csv\") # read in data\n",
    "our_sample = population.sample(200, with_replacement = False) # draw sample from data\n",
    "print(\"The median of the population is\", np.median(population.column(\"basesalary\")), \"compared to the sample mean of\", np.median(our_sample.column(\"basesalary\")))"
   ]
  },
  {
   "cell_type": "code",
   "execution_count": null,
   "id": "202eb120-0a8c-41f3-8810-30082fde823a",
   "metadata": {},
   "outputs": [],
   "source": [
    "stem_bins = np.arange(0, 400000, 25000)\n",
    "population.hist(\"basesalary\", bins=stem_bins) # visualize population\n",
    "our_sample.hist(\"basesalary\", bins=stem_bins) # visualize sample"
   ]
  },
  {
   "cell_type": "code",
   "execution_count": null,
   "id": "158e589f-b177-4f13-96fd-66cdc1c69ba3",
   "metadata": {},
   "outputs": [],
   "source": [
    "# create function to draw one bootstrap sample\n",
    "def bootstrap_sample(data, col = \"\"):\n",
    "    \"\"\" generates one bootstrap resample for the median of dataset\n",
    "    data = Table of data\n",
    "    col = name of column you're interested in from Table \"\"\"\n",
    "    subset = data.select(col)\n",
    "    n = data.num_rows # obtain sample size for resamples\n",
    "    bootsamp = subset.sample(n, with_replacement = True)\n",
    "    return np.median(bootsamp.column(col))"
   ]
  },
  {
   "cell_type": "code",
   "execution_count": null,
   "id": "0aacc5f5-7d26-471f-87b9-ca9ab0c1dfe3",
   "metadata": {},
   "outputs": [],
   "source": [
    "# set simulation/bootstrap parameters\n",
    "B = 1000 # set number of bootstrap samples\n",
    "boot_results = make_array() # create empty array to store results\n",
    "\n",
    "# do this 1000 times to create empirical sampling distribution\n",
    "for i in np.arange(B):\n",
    "    boot_results = np.append(boot_results, bootstrap_sample(our_sample, \"basesalary\"))\n",
    "\n",
    "check = np.percentile(boot_results, [2.5, 97.5])\n",
    "check"
   ]
  },
  {
   "cell_type": "code",
   "execution_count": null,
   "id": "49bb1dab-694c-45b3-8f6c-69f360dd842b",
   "metadata": {},
   "outputs": [],
   "source": [
    "# convert to table so we can visualize with histogram\n",
    "tot_res = Table().with_columns(\n",
    "    \"Bootstrap Medians\", boot_results,\n",
    ")\n",
    "tot_res.select(\"Bootstrap Medians\").hist()"
   ]
  }
 ],
 "metadata": {
  "kernelspec": {
   "display_name": "Python 3 (ipykernel)",
   "language": "python",
   "name": "python3"
  },
  "language_info": {
   "codemirror_mode": {
    "name": "ipython",
    "version": 3
   },
   "file_extension": ".py",
   "mimetype": "text/x-python",
   "name": "python",
   "nbconvert_exporter": "python",
   "pygments_lexer": "ipython3",
   "version": "3.8.10"
  }
 },
 "nbformat": 4,
 "nbformat_minor": 5
}
