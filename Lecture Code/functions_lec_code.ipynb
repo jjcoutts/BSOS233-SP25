{
 "cells": [
  {
   "cell_type": "code",
   "execution_count": null,
   "id": "fa66fc4e-f2e0-47c6-889e-89ff1afa1a51",
   "metadata": {},
   "outputs": [],
   "source": [
    "# BSOS233 Lecture on Functions\n",
    "# Jupyter Notebook created by Jacob J. Coutts\n",
    "\n",
    "# load required packages\n",
    "from datascience import * \n",
    "import numpy as np\n",
    "\n",
    "# create a function to divide y by x\n",
    "def divided(x,y):\n",
    "    \"\"\"\n",
    "    divides argument 1 by argument 2 \n",
    "    no libraries required\n",
    "    no default arguments\n",
    "    \"\"\"\n",
    "    ex = x/y\n",
    "    return ex\n",
    "# test function\n",
    "divided(y = 3, x = 1.5)\n",
    "\n",
    "# you must return, not print, or else you don't have an object as an output\n",
    "def double(x): \n",
    "    \"\"\"triples x\"\"\"\n",
    "    print(2*x)\n",
    "    \n",
    "double(2)*2"
   ]
  },
  {
   "cell_type": "code",
   "execution_count": null,
   "id": "e19f1308-428e-42bd-ba50-0051ddb263cc",
   "metadata": {},
   "outputs": [],
   "source": [
    "# using conditionals to validate functions\n",
    "# a better version of double that checks for errors\n",
    "def double(x):\n",
    "    \"\"\" doubles x\"\"\"\n",
    "    if type(x) == [int,float] :\n",
    "      return 2*x\n",
    "    elif type(x) != int or type(x) != float:\n",
    "      return print(\"You entered\", x, \"x must be numeric. Try again.\")\n",
    "\n",
    "double(2)"
   ]
  },
  {
   "cell_type": "code",
   "execution_count": null,
   "id": "61269f22-5b65-498b-91a1-3cd38242cdb8",
   "metadata": {},
   "outputs": [],
   "source": [
    "# a harder function\n",
    "def trimmedmean(x):\n",
    "    \"\"\"\n",
    "    calculates the trimmed mean of an array by eliminating highest and lowest value\n",
    "    Default arguments: None\n",
    "    Required libraries: import numpy as np\n",
    "    \"\"\"\n",
    "    if type(x) == np.ndarray:\n",
    "        trimmedx = np.mean(np.sort(x)[1:len(x)-1]) \n",
    "        return trimmedx\n",
    "    else: \n",
    "        return \"Error: Input must be a numpy array.\"\n",
    "    \n",
    "trimmedmean([1,2,3])"
   ]
  },
  {
   "cell_type": "code",
   "execution_count": null,
   "id": "0cbcb596-9072-4526-a84a-b34ab6a62d54",
   "metadata": {},
   "outputs": [],
   "source": [
    "# functions with multiple arguments and one default\n",
    "def halfround(x, ndigits=2):\n",
    "    \"\"\"\n",
    "    cuts any number in half and rounds to specified precision\n",
    "    Default arguments: Rounds to 2 decimal places by default\n",
    "    Requi\n",
    "    \"\"\"\n",
    "    return np.round(x/2,ndigits)\n",
    "\n",
    "halfround(make_array(4.644, 2323423423443.2113, 5))"
   ]
  },
  {
   "cell_type": "code",
   "execution_count": null,
   "id": "30cc5687-cdcf-48d0-9013-0565d96f8398",
   "metadata": {},
   "outputs": [],
   "source": [
    "# in-class exercise possible solution 1\n",
    "\n",
    "percent = Table().with_columns(\"Pretest\",np.arange(-10,10),\"Posttest\", np.arange(90,110))\n",
    "\n",
    "def correct_values(x):\n",
    "    \"\"\" \n",
    "    Limits values between zero and 100 \n",
    "    Default arguments: none\n",
    "    Required libraries: none\n",
    "    \"\"\"    \n",
    "    newx = max(x,0)\n",
    "    finalx = min(newx,100)\n",
    "    return(finalx)\n",
    "\n",
    "new_percent = Table().with_columns(\"Pretest\",percent.apply(correct_values, \"Pretest\"),\"Posttest\",percent.apply(correct_values, \"Posttest\"))\n",
    "new_percent\n",
    "\n",
    "check1 = Table().with_columns(\"Pretest\",np.arange(-10000000,1000000))\n",
    "check1.apply(correct_values,\"Pretest\")"
   ]
  },
  {
   "cell_type": "code",
   "execution_count": null,
   "id": "d5c6b67f-3d5f-4c62-986c-17dcbf5ee28c",
   "metadata": {},
   "outputs": [],
   "source": [
    "# in-class exercise possible solution 2\n",
    "\n",
    "percent = Table().with_columns('Pretest', np.arange(-10,10), 'Posttest', np.arange(90,110))\n",
    "\n",
    "def correct_values2(x):\n",
    "    \"\"\" \n",
    "    Limits values between zero and 100 \n",
    "    Default arguments: None\n",
    "    Required libraries: None\n",
    "    \"\"\"\n",
    "    if x < 0:\n",
    "        x = 0\n",
    "    elif x > 100:\n",
    "        x = 100\n",
    "    return x\n",
    "\n",
    "new_percent = Table().with_columns(\"Pretest\",percent.apply(correct_values2, \"Pretest\"),\"Posttest\",percent.apply(correct_values2, \"Posttest\"))\n",
    "new_percent\n",
    "\n",
    "check2 = Table().with_columns(\"Pretest\",np.arange(-10000000,1000000))\n",
    "check2.apply(correct_values2,\"Pretest\")"
   ]
  },
  {
   "cell_type": "code",
   "execution_count": 13,
   "id": "9c30cba7-40d5-4eec-a9bb-754ec4e88865",
   "metadata": {},
   "outputs": [
    {
     "name": "stdout",
     "output_type": "stream",
     "text": [
      "You entered 100 kilograms, which is 220.462 pounds.\n"
     ]
    }
   ],
   "source": [
    "def weight_conversion (weight, basemetric = \"kilograms\"):\n",
    "    \"\"\"\n",
    "    Converts weights from pounds to kilograms or vice versa\n",
    "    Required libraries: None\n",
    "    Default arguments: Weight assumed to be in kilograms\n",
    "    \"\"\"\n",
    "    if basemetric == \"pounds\":\n",
    "        return print(\"You entered\", weight, \"pounds, which is\", weight*0.453592, \"kilograms.\")\n",
    "\n",
    "    elif basemetric == \"kilograms\":\n",
    "        return print(\"You entered\", weight, \"kilograms, which is\", weight*2.20462, \"pounds.\")\n",
    "    else:\n",
    "        return print(\"Basemetric must be 'pounds' or 'kilograms'\")\n",
    "\n",
    "x = 100\n",
    "weight_conversion(x)"
   ]
  }
 ],
 "metadata": {
  "kernelspec": {
   "display_name": "Python 3 (ipykernel)",
   "language": "python",
   "name": "python3"
  },
  "language_info": {
   "codemirror_mode": {
    "name": "ipython",
    "version": 3
   },
   "file_extension": ".py",
   "mimetype": "text/x-python",
   "name": "python",
   "nbconvert_exporter": "python",
   "pygments_lexer": "ipython3",
   "version": "3.8.10"
  }
 },
 "nbformat": 4,
 "nbformat_minor": 5
}
